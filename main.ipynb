{
 "cells": [
  {
   "cell_type": "code",
   "execution_count": 1,
   "metadata": {},
   "outputs": [],
   "source": [
    "import torch\n",
    "from transformers import BertModel, BertTokenizerFast\n",
    "import pandas as pd\n",
    "import torch.nn.functional as F\n",
    "from hazm import *"
   ]
  },
  {
   "cell_type": "markdown",
   "metadata": {},
   "source": [
    "# Model Config"
   ]
  },
  {
   "cell_type": "code",
   "execution_count": 2,
   "metadata": {},
   "outputs": [],
   "source": [
    "tokenizer = BertTokenizerFast.from_pretrained(\"setu4993/LaBSE\")\n",
    "model = BertModel.from_pretrained(\"setu4993/LaBSE\")\n",
    "model = model.eval()"
   ]
  },
  {
   "cell_type": "code",
   "execution_count": 3,
   "metadata": {},
   "outputs": [],
   "source": [
    "def PersianSentenceEmbedding(sentence):\n",
    "    persian_input = tokenizer(sentence,return_tensors=\"pt\", padding=True,truncation=True,max_length=100, add_special_tokens = True)\n",
    "    with torch.no_grad():\n",
    "        persian_output = model(**persian_input)\n",
    "    persian_embedding = persian_output.pooler_output \n",
    "    return persian_embedding"
   ]
  },
  {
   "cell_type": "code",
   "execution_count": 4,
   "metadata": {},
   "outputs": [],
   "source": [
    "def similarity(embeddings_1, embeddings_2):\n",
    "    normalized_embeddings_1 = F.normalize(embeddings_1, p=2)\n",
    "    normalized_embeddings_2 = F.normalize(embeddings_2, p=2)\n",
    "    return torch.matmul(\n",
    "        normalized_embeddings_1, normalized_embeddings_2.transpose(0, 1)\n",
    "    )"
   ]
  },
  {
   "cell_type": "markdown",
   "metadata": {},
   "source": [
    "# Data Preprocessing"
   ]
  },
  {
   "cell_type": "code",
   "execution_count": 5,
   "metadata": {},
   "outputs": [],
   "source": [
    "df = pd.read_csv(\"Q_A\\Q_A.csv\")"
   ]
  },
  {
   "cell_type": "code",
   "execution_count": 6,
   "metadata": {},
   "outputs": [],
   "source": [
    "def PreProcessing_Embedding(pureDataFrame):\n",
    "    CleanDF = pureDataFrame.copy()\n",
    "    CleanDF[\"Embeddings\"] =  CleanDF[\"question\"].apply(lambda x: PersianSentenceEmbedding(x))\n",
    "    return CleanDF"
   ]
  },
  {
   "cell_type": "code",
   "execution_count": 12,
   "metadata": {},
   "outputs": [],
   "source": [
    "def BestAnswer(question,QuestionsDataframe):\n",
    "    # UserInput = input(\"سوال جدید را وارد کنید:\")\n",
    "    Clean_input = Normalizer().normalize(question)\n",
    "    Embedded_input = PersianSentenceEmbedding(Clean_input)\n",
    "    tempList = []\n",
    "    for index,row in QuestionsDataframe.iterrows():\n",
    "        sim = similarity(row[\"Embeddings\"],Embedded_input)\n",
    "        tempList.append(sim)\n",
    "    bestMatchedIndex = tempList.index(max(tempList))\n",
    "    return QuestionsDataframe.iloc[bestMatchedIndex,1]"
   ]
  },
  {
   "cell_type": "code",
   "execution_count": 7,
   "metadata": {},
   "outputs": [],
   "source": [
    "CleanDF = PreProcessing_Embedding(df)"
   ]
  },
  {
   "cell_type": "code",
   "execution_count": 11,
   "metadata": {},
   "outputs": [],
   "source": [
    "UserInput = input(\"سوال جدید را وارد کنید:\")"
   ]
  },
  {
   "cell_type": "code",
   "execution_count": 13,
   "metadata": {},
   "outputs": [
    {
     "data": {
      "text/plain": [
       "'با سلام، کاربر گرامی ارتقا نوع کاربری تا 24 ساعت بررسی و تایید خواهد شد. لطفا صبور باشید.'"
      ]
     },
     "execution_count": 13,
     "metadata": {},
     "output_type": "execute_result"
    }
   ],
   "source": [
    "BestAnswer(UserInput,CleanDF)"
   ]
  }
 ],
 "metadata": {
  "kernelspec": {
   "display_name": "TextMining",
   "language": "python",
   "name": "python3"
  },
  "language_info": {
   "codemirror_mode": {
    "name": "ipython",
    "version": 3
   },
   "file_extension": ".py",
   "mimetype": "text/x-python",
   "name": "python",
   "nbconvert_exporter": "python",
   "pygments_lexer": "ipython3",
   "version": "3.8.12"
  },
  "orig_nbformat": 4
 },
 "nbformat": 4,
 "nbformat_minor": 2
}
